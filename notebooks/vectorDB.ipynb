{
 "cells": [
  {
   "cell_type": "code",
   "execution_count": 3,
   "id": "9d38afee",
   "metadata": {},
   "outputs": [
    {
     "name": "stdout",
     "output_type": "stream",
     "text": [
      "Upserted 7 docs into 'facts' → C:\\Users\\yifan\\OneDrive\\桌面\\yifanbot\\data\\db_chroma\n"
     ]
    }
   ],
   "source": [
    "# build_index.py (Windows-safe)\n",
    "import json\n",
    "from pathlib import Path\n",
    "from chromadb import PersistentClient\n",
    "from chromadb.utils import embedding_functions\n",
    "\n",
    "DATA_PATH = Path(\"../data\") / \"facts.jsonl\"\n",
    "DB_DIR    = Path(r\"C:\\Users\\yifan\\OneDrive\\桌面\\yifanbot\\data\\db_chroma\")\n",
    "COLL_NAME = \"facts\"\n",
    "\n",
    "def load_jsonl(path: Path):\n",
    "    with path.open(\"r\", encoding=\"utf-8\") as f:\n",
    "        for line in f:\n",
    "            line = line.strip()\n",
    "            if line:\n",
    "                yield json.loads(line)\n",
    "\n",
    "def main():\n",
    "    if not DATA_PATH.exists():\n",
    "        raise FileNotFoundError(f\"Missing {DATA_PATH.resolve()}\")\n",
    "\n",
    "    DB_DIR.mkdir(parents=True, exist_ok=True)\n",
    "\n",
    "    ef = embedding_functions.SentenceTransformerEmbeddingFunction(\n",
    "        model_name=\"sentence-transformers/all-MiniLM-L6-v2\"\n",
    "    )\n",
    "    client = PersistentClient(path=str(DB_DIR))\n",
    "    coll = client.get_or_create_collection(name=COLL_NAME, embedding_function=ef)\n",
    "\n",
    "    texts, ids, metadatas = [], [], []\n",
    "    for i, row in enumerate(load_jsonl(DATA_PATH)):\n",
    "        rid = str(row.get(\"id\") or row.get(\"uuid\") or i)\n",
    "        txt = row[\"text\"]\n",
    "        meta = {k: v for k, v in row.items() if k != \"text\"}\n",
    "        texts.append(txt); ids.append(rid); metadatas.append(meta)\n",
    "\n",
    "    coll.upsert(documents=texts, ids=ids, metadatas=metadatas)\n",
    "    print(f\"Upserted {len(ids)} docs into '{COLL_NAME}' → {DB_DIR.resolve()}\")\n",
    "\n",
    "if __name__ == \"__main__\":\n",
    "    main()\n"
   ]
  },
  {
   "cell_type": "code",
   "execution_count": 4,
   "id": "710cc575",
   "metadata": {},
   "outputs": [
    {
     "name": "stdout",
     "output_type": "stream",
     "text": [
      "Count: 7\n",
      "\n",
      "Q: How many cats do i have\n",
      "  1. I have two cats and no dog\n",
      "     meta: {'id': 'fact_005'}\n",
      "  2. One of my cats is called Tuantuan, the other one is Jinbu\n",
      "     meta: {'id': 'fact_004'}\n",
      "  3. I speak Chinese natively, and I am fluent in English and French.\n",
      "     meta: {'id': 'fact_003'}\n",
      "\n",
      "Q: Tell me about MicroTune.\n",
      "  1. I developed MicroTune, an RL-based dynamic RAM allocation system for MariaDB.\n",
      "     meta: {'id': 'fact_002'}\n",
      "  2. I am a CIFRE PhD student in Computer Science specializing in DBMS tuning and AI at University of Lille in France.\n",
      "     meta: {'id': 'fact_001'}\n",
      "  3. I speak Chinese natively, and I am fluent in English and French.\n",
      "     meta: {'id': 'fact_003'}\n",
      "\n",
      "Q: Which languages do I speak?\n",
      "  1. I speak Chinese natively, and I am fluent in English and French.\n",
      "     meta: {'id': 'fact_003'}\n",
      "  2. I'm married, my wife is called Yuanyuan\n",
      "     meta: {'id': 'fact_007'}\n",
      "  3. I am a CIFRE PhD student in Computer Science specializing in DBMS tuning and AI at University of Lille in France.\n",
      "     meta: {'id': 'fact_001'}\n"
     ]
    }
   ],
   "source": [
    "# quick_test.py (Windows-safe)\n",
    "from pathlib import Path\n",
    "from chromadb import PersistentClient\n",
    "from chromadb.utils import embedding_functions\n",
    "\n",
    "DB_DIR    = Path(\"db_chroma\")\n",
    "COLL_NAME = \"facts\"\n",
    "\n",
    "def main():\n",
    "    ef = embedding_functions.SentenceTransformerEmbeddingFunction(\n",
    "        model_name=\"sentence-transformers/all-MiniLM-L6-v2\"\n",
    "    )\n",
    "    client = PersistentClient(path=str(DB_DIR))\n",
    "    coll = client.get_collection(name=COLL_NAME, embedding_function=ef)\n",
    "\n",
    "    print(\"Count:\", coll.count())\n",
    "\n",
    "    queries = [\n",
    "        \"How many cats do i have\",\n",
    "        \"Tell me about MicroTune.\",\n",
    "        \"Which languages do I speak?\"\n",
    "    ]\n",
    "    for q in queries:\n",
    "        res = coll.query(query_texts=[q], n_results=3)\n",
    "        print(\"\\nQ:\", q)\n",
    "        for i, (doc, mid) in enumerate(zip(res[\"documents\"][0], res[\"metadatas\"][0]), 1):\n",
    "            preview = (doc[:120] + \"...\") if len(doc) > 120 else doc\n",
    "            print(f\"  {i}. {preview}\")\n",
    "            if mid: print(\"     meta:\", mid)\n",
    "\n",
    "if __name__ == \"__main__\":\n",
    "    main()\n"
   ]
  }
 ],
 "metadata": {
  "kernelspec": {
   "display_name": "llm_env",
   "language": "python",
   "name": "python3"
  },
  "language_info": {
   "codemirror_mode": {
    "name": "ipython",
    "version": 3
   },
   "file_extension": ".py",
   "mimetype": "text/x-python",
   "name": "python",
   "nbconvert_exporter": "python",
   "pygments_lexer": "ipython3",
   "version": "3.11.13"
  }
 },
 "nbformat": 4,
 "nbformat_minor": 5
}
