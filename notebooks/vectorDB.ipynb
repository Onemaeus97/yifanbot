{
 "cells": [
  {
   "cell_type": "code",
   "execution_count": 4,
   "id": "9d38afee",
   "metadata": {},
   "outputs": [
    {
     "data": {
      "application/vnd.jupyter.widget-view+json": {
       "model_id": "cd321d337f7f491c9eb6360a11756814",
       "version_major": 2,
       "version_minor": 0
      },
      "text/plain": [
       "modules.json:   0%|          | 0.00/349 [00:00<?, ?B/s]"
      ]
     },
     "metadata": {},
     "output_type": "display_data"
    },
    {
     "name": "stderr",
     "output_type": "stream",
     "text": [
      "c:\\Users\\yifan\\anaconda3\\envs\\llm_env\\Lib\\site-packages\\huggingface_hub\\file_download.py:143: UserWarning: `huggingface_hub` cache-system uses symlinks by default to efficiently store duplicated files but your machine does not support them in C:\\Users\\yifan\\.cache\\huggingface\\hub\\models--sentence-transformers--all-MiniLM-L6-v2. Caching files will still work but in a degraded version that might require more space on your disk. This warning can be disabled by setting the `HF_HUB_DISABLE_SYMLINKS_WARNING` environment variable. For more details, see https://huggingface.co/docs/huggingface_hub/how-to-cache#limitations.\n",
      "To support symlinks on Windows, you either need to activate Developer Mode or to run Python as an administrator. In order to activate developer mode, see this article: https://docs.microsoft.com/en-us/windows/apps/get-started/enable-your-device-for-development\n",
      "  warnings.warn(message)\n"
     ]
    },
    {
     "data": {
      "application/vnd.jupyter.widget-view+json": {
       "model_id": "f8270834336c4920894a08a5e1b778a6",
       "version_major": 2,
       "version_minor": 0
      },
      "text/plain": [
       "config_sentence_transformers.json:   0%|          | 0.00/116 [00:00<?, ?B/s]"
      ]
     },
     "metadata": {},
     "output_type": "display_data"
    },
    {
     "data": {
      "application/vnd.jupyter.widget-view+json": {
       "model_id": "9dc0ae2bdb314f3b90fddb8463480986",
       "version_major": 2,
       "version_minor": 0
      },
      "text/plain": [
       "README.md: 0.00B [00:00, ?B/s]"
      ]
     },
     "metadata": {},
     "output_type": "display_data"
    },
    {
     "data": {
      "application/vnd.jupyter.widget-view+json": {
       "model_id": "7fd6c175a4fd4929ae60b91fd6127583",
       "version_major": 2,
       "version_minor": 0
      },
      "text/plain": [
       "sentence_bert_config.json:   0%|          | 0.00/53.0 [00:00<?, ?B/s]"
      ]
     },
     "metadata": {},
     "output_type": "display_data"
    },
    {
     "data": {
      "application/vnd.jupyter.widget-view+json": {
       "model_id": "97cdd7e4426d481b9a9536a542d0513a",
       "version_major": 2,
       "version_minor": 0
      },
      "text/plain": [
       "config.json:   0%|          | 0.00/612 [00:00<?, ?B/s]"
      ]
     },
     "metadata": {},
     "output_type": "display_data"
    },
    {
     "name": "stderr",
     "output_type": "stream",
     "text": [
      "Xet Storage is enabled for this repo, but the 'hf_xet' package is not installed. Falling back to regular HTTP download. For better performance, install the package with: `pip install huggingface_hub[hf_xet]` or `pip install hf_xet`\n"
     ]
    },
    {
     "data": {
      "application/vnd.jupyter.widget-view+json": {
       "model_id": "1948d49660454e8895dc91471953e9d3",
       "version_major": 2,
       "version_minor": 0
      },
      "text/plain": [
       "model.safetensors:   0%|          | 0.00/90.9M [00:00<?, ?B/s]"
      ]
     },
     "metadata": {},
     "output_type": "display_data"
    },
    {
     "data": {
      "application/vnd.jupyter.widget-view+json": {
       "model_id": "c93d706dbe78434ebac53a04d678c31a",
       "version_major": 2,
       "version_minor": 0
      },
      "text/plain": [
       "tokenizer_config.json:   0%|          | 0.00/350 [00:00<?, ?B/s]"
      ]
     },
     "metadata": {},
     "output_type": "display_data"
    },
    {
     "data": {
      "application/vnd.jupyter.widget-view+json": {
       "model_id": "3b49b1cedff34e4ba404b04a4d96c2de",
       "version_major": 2,
       "version_minor": 0
      },
      "text/plain": [
       "vocab.txt: 0.00B [00:00, ?B/s]"
      ]
     },
     "metadata": {},
     "output_type": "display_data"
    },
    {
     "data": {
      "application/vnd.jupyter.widget-view+json": {
       "model_id": "66263cff2d8c4c5c8925581b515e9230",
       "version_major": 2,
       "version_minor": 0
      },
      "text/plain": [
       "tokenizer.json: 0.00B [00:00, ?B/s]"
      ]
     },
     "metadata": {},
     "output_type": "display_data"
    },
    {
     "data": {
      "application/vnd.jupyter.widget-view+json": {
       "model_id": "0a9084524fec4732a751db2fc1f5a8f8",
       "version_major": 2,
       "version_minor": 0
      },
      "text/plain": [
       "special_tokens_map.json:   0%|          | 0.00/112 [00:00<?, ?B/s]"
      ]
     },
     "metadata": {},
     "output_type": "display_data"
    },
    {
     "data": {
      "application/vnd.jupyter.widget-view+json": {
       "model_id": "7b4346eca176416e973082efd3a88459",
       "version_major": 2,
       "version_minor": 0
      },
      "text/plain": [
       "config.json:   0%|          | 0.00/190 [00:00<?, ?B/s]"
      ]
     },
     "metadata": {},
     "output_type": "display_data"
    },
    {
     "name": "stdout",
     "output_type": "stream",
     "text": [
      "Upserted 7 docs into 'facts' → C:\\Users\\yifan\\yifanbot\\notebooks\\db_chroma\n"
     ]
    },
    {
     "name": "stderr",
     "output_type": "stream",
     "text": [
      "c:\\Users\\yifan\\anaconda3\\envs\\llm_env\\Lib\\site-packages\\torch\\nn\\modules\\module.py:1747: FutureWarning: `encoder_attention_mask` is deprecated and will be removed in version 4.55.0 for `BertSdpaSelfAttention.forward`.\n",
      "  return forward_call(*args, **kwargs)\n"
     ]
    }
   ],
   "source": [
    "# build_index.py (Windows-safe)\n",
    "import json\n",
    "from pathlib import Path\n",
    "from chromadb import PersistentClient\n",
    "from chromadb.utils import embedding_functions\n",
    "\n",
    "DATA_PATH = Path(\"../data\") / \"facts.jsonl\"\n",
    "DB_DIR    = Path(\"db_chroma\")\n",
    "COLL_NAME = \"facts\"\n",
    "\n",
    "def load_jsonl(path: Path):\n",
    "    with path.open(\"r\", encoding=\"utf-8\") as f:\n",
    "        for line in f:\n",
    "            line = line.strip()\n",
    "            if line:\n",
    "                yield json.loads(line)\n",
    "\n",
    "def main():\n",
    "    if not DATA_PATH.exists():\n",
    "        raise FileNotFoundError(f\"Missing {DATA_PATH.resolve()}\")\n",
    "\n",
    "    DB_DIR.mkdir(parents=True, exist_ok=True)\n",
    "\n",
    "    ef = embedding_functions.SentenceTransformerEmbeddingFunction(\n",
    "        model_name=\"sentence-transformers/all-MiniLM-L6-v2\"\n",
    "    )\n",
    "    client = PersistentClient(path=str(DB_DIR))\n",
    "    coll = client.get_or_create_collection(name=COLL_NAME, embedding_function=ef)\n",
    "\n",
    "    texts, ids, metadatas = [], [], []\n",
    "    for i, row in enumerate(load_jsonl(DATA_PATH)):\n",
    "        rid = str(row.get(\"id\") or row.get(\"uuid\") or i)\n",
    "        txt = row[\"text\"]\n",
    "        meta = {k: v for k, v in row.items() if k != \"text\"}\n",
    "        texts.append(txt); ids.append(rid); metadatas.append(meta)\n",
    "\n",
    "    coll.upsert(documents=texts, ids=ids, metadatas=metadatas)\n",
    "    print(f\"Upserted {len(ids)} docs into '{COLL_NAME}' → {DB_DIR.resolve()}\")\n",
    "\n",
    "if __name__ == \"__main__\":\n",
    "    main()\n"
   ]
  },
  {
   "cell_type": "code",
   "execution_count": 6,
   "id": "710cc575",
   "metadata": {},
   "outputs": [
    {
     "name": "stdout",
     "output_type": "stream",
     "text": [
      "Count: 7\n",
      "\n",
      "Q: How many cats do i have\n",
      "  1. I have two cats and no dog\n",
      "     meta: {'id': 'fact_005'}\n",
      "  2. One of my cats is called Tuantuan, the other one is Jinbu\n",
      "     meta: {'id': 'fact_004'}\n",
      "  3. I speak Chinese natively, and I am fluent in English and French.\n",
      "     meta: {'id': 'fact_003'}\n",
      "\n",
      "Q: Tell me about MicroTune.\n",
      "  1. I developed MicroTune, an RL-based dynamic RAM allocation system for MariaDB.\n",
      "     meta: {'id': 'fact_002'}\n",
      "  2. I am a CIFRE PhD student in Computer Science specializing in DBMS tuning and AI at University of Lille in France.\n",
      "     meta: {'id': 'fact_001'}\n",
      "  3. I speak Chinese natively, and I am fluent in English and French.\n",
      "     meta: {'id': 'fact_003'}\n",
      "\n",
      "Q: Which languages do I speak?\n",
      "  1. I speak Chinese natively, and I am fluent in English and French.\n",
      "     meta: {'id': 'fact_003'}\n",
      "  2. I'm married, my wife is called Yuanyuan\n",
      "     meta: {'id': 'fact_007'}\n",
      "  3. I am a CIFRE PhD student in Computer Science specializing in DBMS tuning and AI at University of Lille in France.\n",
      "     meta: {'id': 'fact_001'}\n"
     ]
    }
   ],
   "source": [
    "# quick_test.py (Windows-safe)\n",
    "from pathlib import Path\n",
    "from chromadb import PersistentClient\n",
    "from chromadb.utils import embedding_functions\n",
    "\n",
    "DB_DIR    = Path(\"db_chroma\")\n",
    "COLL_NAME = \"facts\"\n",
    "\n",
    "def main():\n",
    "    ef = embedding_functions.SentenceTransformerEmbeddingFunction(\n",
    "        model_name=\"sentence-transformers/all-MiniLM-L6-v2\"\n",
    "    )\n",
    "    client = PersistentClient(path=str(DB_DIR))\n",
    "    coll = client.get_collection(name=COLL_NAME, embedding_function=ef)\n",
    "\n",
    "    print(\"Count:\", coll.count())\n",
    "\n",
    "    queries = [\n",
    "        \"How many cats do i have\",\n",
    "        \"Tell me about MicroTune.\",\n",
    "        \"Which languages do I speak?\"\n",
    "    ]\n",
    "    for q in queries:\n",
    "        res = coll.query(query_texts=[q], n_results=3)\n",
    "        print(\"\\nQ:\", q)\n",
    "        for i, (doc, mid) in enumerate(zip(res[\"documents\"][0], res[\"metadatas\"][0]), 1):\n",
    "            preview = (doc[:120] + \"...\") if len(doc) > 120 else doc\n",
    "            print(f\"  {i}. {preview}\")\n",
    "            if mid: print(\"     meta:\", mid)\n",
    "\n",
    "if __name__ == \"__main__\":\n",
    "    main()\n"
   ]
  }
 ],
 "metadata": {
  "kernelspec": {
   "display_name": "llm_env",
   "language": "python",
   "name": "python3"
  },
  "language_info": {
   "codemirror_mode": {
    "name": "ipython",
    "version": 3
   },
   "file_extension": ".py",
   "mimetype": "text/x-python",
   "name": "python",
   "nbconvert_exporter": "python",
   "pygments_lexer": "ipython3",
   "version": "3.11.13"
  }
 },
 "nbformat": 4,
 "nbformat_minor": 5
}
