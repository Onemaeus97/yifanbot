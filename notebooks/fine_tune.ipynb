{
 "cells": [
  {
   "cell_type": "code",
   "execution_count": 1,
   "id": "026655a2",
   "metadata": {},
   "outputs": [
    {
     "name": "stdout",
     "output_type": "stream",
     "text": [
      "Device: cuda\n"
     ]
    }
   ],
   "source": [
    "from pathlib import Path\n",
    "import os, json, torch\n",
    "from datasets import Dataset\n",
    "from transformers import (\n",
    "    AutoTokenizer, AutoModelForCausalLM,\n",
    "    BitsAndBytesConfig, TrainingArguments,\n",
    "    DataCollatorForLanguageModeling, Trainer\n",
    ")\n",
    "from peft import get_peft_model, LoraConfig\n",
    "\n",
    "# ---------- Paths ----------\n",
    "DATA_PATH  = Path(r\"C:\\Users\\yifan\\yifanbot\\data\\tone.jsonl\")\n",
    "OUTPUT_DIR = Path(\"./lora-Qwen2.5-7B\")      # where to save adapter\n",
    "\n",
    "# ---------- Base model ----------\n",
    "BASE_MODEL = os.environ.get(\"BASE_MODEL\", \"Qwen/Qwen2.5-7B-Instruct\")\n",
    "\n",
    "assert DATA_PATH.exists(), f\"Dataset not found: {DATA_PATH}\"\n",
    "\n",
    "device = \"cuda\" if torch.cuda.is_available() else \"cpu\"\n",
    "print(\"Device:\", device)\n",
    "\n",
    "# 4-bit config (only used if CUDA is available)\n",
    "bnb_config = None\n",
    "if device == \"cuda\":\n",
    "    bnb_config = BitsAndBytesConfig(\n",
    "        load_in_4bit=True,\n",
    "        bnb_4bit_quant_type=\"nf4\",\n",
    "        bnb_4bit_use_double_quant=True,\n",
    "        bnb_4bit_compute_dtype=torch.bfloat16\n",
    "    )\n"
   ]
  },
  {
   "cell_type": "code",
   "execution_count": 2,
   "id": "359cc3a4",
   "metadata": {},
   "outputs": [
    {
     "name": "stdout",
     "output_type": "stream",
     "text": [
      "Loaded rows: 1\n",
      "Dataset({\n",
      "    features: ['text'],\n",
      "    num_rows: 1\n",
      "})\n"
     ]
    }
   ],
   "source": [
    "def load_jsonl(path: Path):\n",
    "    rows = []\n",
    "    with path.open(\"r\", encoding=\"utf-8\") as f:\n",
    "        for ln, line in enumerate(f, 1):\n",
    "            s = line.strip()\n",
    "            if not s:\n",
    "                continue\n",
    "            try:\n",
    "                rows.append(json.loads(s))\n",
    "            except Exception as e:\n",
    "                raise ValueError(f\"Bad JSON at line {ln}: {e}\")\n",
    "    return rows\n",
    "\n",
    "raw_rows = load_jsonl(DATA_PATH)\n",
    "print(\"Loaded rows:\", len(raw_rows))\n",
    "assert all((\"instruction\" in r and \"output\" in r and \"input\" in r) for r in raw_rows), \"tone.jsonl needs instruction/input/output\"\n",
    "\n",
    "# Minimal, model-agnostic prompt template\n",
    "def format_example(r):\n",
    "    instr = (r.get(\"instruction\") or \"\").strip()\n",
    "    inp   = (r.get(\"input\") or \"\").strip()\n",
    "    out   = (r.get(\"output\") or \"\").strip()\n",
    "    sys = \"You are Mimic‑Me Bot. Write in the user's tone: concise, direct, slightly informal, pragmatic. Prefer bullets; no fluff. Use 'I' for the user's experience.\"\n",
    "    if inp:\n",
    "        prompt = (\n",
    "            f\"[SYSTEM] {sys}\\n\"\n",
    "            f\"[USER] {instr}\\n\"\n",
    "            f\"[USER-CONTEXT] {inp}\\n\"\n",
    "            \"[ASSISTANT] \"\n",
    "        )\n",
    "    else:\n",
    "        prompt = (\n",
    "            f\"[SYSTEM] {sys}\\n\"\n",
    "            f\"[USER] {instr}\\n\"\n",
    "            \"[ASSISTANT] \"\n",
    "        )\n",
    "    return {\"text\": prompt + out}\n",
    "\n",
    "train_rows = [format_example(r) for r in raw_rows]\n",
    "ds = Dataset.from_list(train_rows)\n",
    "print(ds)\n"
   ]
  },
  {
   "cell_type": "code",
   "execution_count": 3,
   "id": "03a24f11",
   "metadata": {},
   "outputs": [
    {
     "data": {
      "application/vnd.jupyter.widget-view+json": {
       "model_id": "ac4786f1f5bb49c7951a91652594c16b",
       "version_major": 2,
       "version_minor": 0
      },
      "text/plain": [
       "Loading checkpoint shards:   0%|          | 0/4 [00:00<?, ?it/s]"
      ]
     },
     "metadata": {},
     "output_type": "display_data"
    }
   ],
   "source": [
    "tokenizer = AutoTokenizer.from_pretrained(BASE_MODEL, use_fast=True)\n",
    "if tokenizer.pad_token is None:\n",
    "    tokenizer.pad_token = tokenizer.eos_token\n",
    "\n",
    "model = AutoModelForCausalLM.from_pretrained(\n",
    "    BASE_MODEL,\n",
    "    torch_dtype=torch.bfloat16 if device == \"cuda\" else torch.float32,\n",
    "    device_map=\"auto\" if device == \"cuda\" else None,\n",
    "    quantization_config=bnb_config,        # None on CPU\n",
    ")\n",
    "model.config.use_cache = False            # needed with gradient checkpointing\n"
   ]
  },
  {
   "cell_type": "code",
   "execution_count": 4,
   "id": "377a73c2",
   "metadata": {},
   "outputs": [
    {
     "data": {
      "application/vnd.jupyter.widget-view+json": {
       "model_id": "092089cc11274486832304c0e2914821",
       "version_major": 2,
       "version_minor": 0
      },
      "text/plain": [
       "Map:   0%|          | 0/1 [00:00<?, ? examples/s]"
      ]
     },
     "metadata": {},
     "output_type": "display_data"
    },
    {
     "name": "stdout",
     "output_type": "stream",
     "text": [
      "Dataset({\n",
      "    features: ['input_ids', 'attention_mask'],\n",
      "    num_rows: 1\n",
      "})\n"
     ]
    }
   ],
   "source": [
    "# Target modules known to work well for Qwen/Mistral\n",
    "target_modules = [\"q_proj\",\"k_proj\",\"v_proj\",\"o_proj\",\"gate_proj\",\"up_proj\",\"down_proj\"]\n",
    "\n",
    "lora_config = LoraConfig(\n",
    "    r=16,\n",
    "    lora_alpha=32,\n",
    "    lora_dropout=0.05,\n",
    "    bias=\"none\",\n",
    "    task_type=\"CAUSAL_LM\",\n",
    "    target_modules=target_modules\n",
    ")\n",
    "\n",
    "model = get_peft_model(model, lora_config)\n",
    "\n",
    "def tok_fn(ex):\n",
    "    return tokenizer(\n",
    "        ex[\"text\"],\n",
    "        truncation=True,\n",
    "        max_length=1024,\n",
    "        padding=False,\n",
    "    )\n",
    "\n",
    "tok_ds = ds.map(tok_fn, batched=True, remove_columns=ds.column_names)\n",
    "print(tok_ds)\n"
   ]
  },
  {
   "cell_type": "code",
   "execution_count": 9,
   "id": "d8b05ef5",
   "metadata": {},
   "outputs": [
    {
     "data": {
      "text/html": [
       "\n",
       "    <div>\n",
       "      \n",
       "      <progress value='2' max='2' style='width:300px; height:20px; vertical-align: middle;'></progress>\n",
       "      [2/2 00:01, Epoch 2/2]\n",
       "    </div>\n",
       "    <table border=\"1\" class=\"dataframe\">\n",
       "  <thead>\n",
       " <tr style=\"text-align: left;\">\n",
       "      <th>Step</th>\n",
       "      <th>Training Loss</th>\n",
       "    </tr>\n",
       "  </thead>\n",
       "  <tbody>\n",
       "  </tbody>\n",
       "</table><p>"
      ],
      "text/plain": [
       "<IPython.core.display.HTML object>"
      ]
     },
     "metadata": {},
     "output_type": "display_data"
    },
    {
     "data": {
      "text/plain": [
       "TrainOutput(global_step=2, training_loss=4.644827842712402, metrics={'train_runtime': 2.7204, 'train_samples_per_second': 0.735, 'train_steps_per_second': 0.735, 'total_flos': 6911881611264.0, 'train_loss': 4.644827842712402, 'epoch': 2.0})"
      ]
     },
     "execution_count": 9,
     "metadata": {},
     "output_type": "execute_result"
    }
   ],
   "source": [
    "training_args = TrainingArguments(\n",
    "    output_dir=str(OUTPUT_DIR),\n",
    "    num_train_epochs=2,\n",
    "    per_device_train_batch_size=2,\n",
    "    gradient_accumulation_steps=8,   # effective batch size = 16\n",
    "    learning_rate=2e-4,\n",
    "    logging_steps=10,\n",
    "    save_strategy=\"steps\",\n",
    "    save_steps=200,\n",
    "    save_total_limit=3,\n",
    "    bf16=(device==\"cuda\"),\n",
    "    fp16=False,\n",
    "    gradient_checkpointing=True,\n",
    "    optim=(\"paged_adamw_8bit\" if device==\"cuda\" else \"adamw_torch\"),\n",
    "    lr_scheduler_type=\"cosine\",\n",
    "    warmup_ratio=0.05,\n",
    "    max_grad_norm=1.0,\n",
    "    report_to=\"none\",\n",
    ")\n",
    "# also add after wrapping with get_peft_model:\n",
    "model.enable_input_require_grads()\n",
    "model.gradient_checkpointing_enable()\n",
    "\n",
    "\n",
    "collator = DataCollatorForLanguageModeling(\n",
    "    tokenizer=tokenizer,\n",
    "    mlm=False\n",
    ")\n",
    "\n",
    "trainer = Trainer(\n",
    "    model=model,\n",
    "    args=training_args,\n",
    "    train_dataset=tok_ds,\n",
    "    data_collator=collator,\n",
    ")\n",
    "\n",
    "trainer.train()\n"
   ]
  },
  {
   "cell_type": "code",
   "execution_count": 10,
   "id": "c0e710d7",
   "metadata": {},
   "outputs": [
    {
     "name": "stdout",
     "output_type": "stream",
     "text": [
      "Saved LoRA adapter to: C:\\Users\\yifan\\yifanbot\\notebooks\\lora-Qwen2.5-7B\n"
     ]
    }
   ],
   "source": [
    "OUTPUT_DIR.mkdir(parents=True, exist_ok=True)\n",
    "trainer.model.save_pretrained(str(OUTPUT_DIR))\n",
    "tokenizer.save_pretrained(str(OUTPUT_DIR))\n",
    "print(\"Saved LoRA adapter to:\", OUTPUT_DIR.resolve())\n"
   ]
  }
 ],
 "metadata": {
  "kernelspec": {
   "display_name": "llm_env",
   "language": "python",
   "name": "python3"
  },
  "language_info": {
   "codemirror_mode": {
    "name": "ipython",
    "version": 3
   },
   "file_extension": ".py",
   "mimetype": "text/x-python",
   "name": "python",
   "nbconvert_exporter": "python",
   "pygments_lexer": "ipython3",
   "version": "3.11.13"
  }
 },
 "nbformat": 4,
 "nbformat_minor": 5
}
